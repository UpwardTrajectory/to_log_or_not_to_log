{
 "cells": [
  {
   "cell_type": "markdown",
   "metadata": {},
   "source": [
    "# Something is growing, and it's growing very fast, but *how* fast?"
   ]
  },
  {
   "cell_type": "markdown",
   "metadata": {},
   "source": [
    "Last week, I talked about engineering new features from columns you already have (I used Haversine's Formula as an example). This week, I'd like to discuss using log-transformations to test whether the underlying patterns in the data is caused by exponential behavior: `y=A*B^x` or perhaps a power model: `y=A*x^n`. NOTE: This is *not* about using log-transformations to assist with normalizing the data, for that, you'll need to look [elsewhere](http://www.blogofsomeoneinclass.com). This topic is near and dear to my heart, because it was how I met my very first tutoring client, which built into my own business over ten years. I was working at a school, and one of my fellow teachers (she specialized in Chemistry & Bio, but often helped with math at the high school level) was doing some tutoring on the side, and she ran into a group project that was focusing on exactly this topic. She wasn't feeling very confident, and knew I wasn't doing anything that night, because we had just talked about it earlier that day. So she called me, asking for help, and she paid me 100% of what she made from the family that hour. Later on, she moved away, and \"gifted\" me with a referral to work with that same family.  \n",
    "  \n",
    "Fast-forward 10 years, I'm no longer a tutor, but I have decided to take my mathematical expertise and pivot into computers, specifically, data science. Let's tie it all together. Imagine we've done some basic analysis on a few columns in pandas, and we're trying to decide on a column-by-column basis, which growth pattern is in play. Let's start with the necessary imports:"
   ]
  },
  {
   "cell_type": "code",
   "execution_count": 1,
   "metadata": {},
   "outputs": [
    {
     "ename": "ModuleNotFoundError",
     "evalue": "No module named 'exp_or_poly'",
     "output_type": "error",
     "traceback": [
      "\u001b[0;31m---------------------------------------------------------------------------\u001b[0m",
      "\u001b[0;31mModuleNotFoundError\u001b[0m                       Traceback (most recent call last)",
      "\u001b[0;32m<ipython-input-1-4da15ae5e642>\u001b[0m in \u001b[0;36m<module>\u001b[0;34m()\u001b[0m\n\u001b[1;32m      4\u001b[0m \u001b[0;32mimport\u001b[0m \u001b[0mseaborn\u001b[0m \u001b[0;32mas\u001b[0m \u001b[0msns\u001b[0m    \u001b[0;31m# Sidenote: if you haven't tried using the Seaborn library, it's wonderful! I highly recommend that you give it a try.\u001b[0m\u001b[0;34m\u001b[0m\u001b[0;34m\u001b[0m\u001b[0m\n\u001b[1;32m      5\u001b[0m \u001b[0;32mfrom\u001b[0m \u001b[0mscipy\u001b[0m \u001b[0;32mimport\u001b[0m \u001b[0mstats\u001b[0m\u001b[0;34m\u001b[0m\u001b[0;34m\u001b[0m\u001b[0m\n\u001b[0;32m----> 6\u001b[0;31m \u001b[0;32mfrom\u001b[0m \u001b[0mexp_or_poly\u001b[0m \u001b[0;32mimport\u001b[0m \u001b[0mmystery_scatter\u001b[0m  \u001b[0;31m# Secret function I wrote, don't cheat and look!\u001b[0m\u001b[0;34m\u001b[0m\u001b[0;34m\u001b[0m\u001b[0m\n\u001b[0m\u001b[1;32m      7\u001b[0m \u001b[0mget_ipython\u001b[0m\u001b[0;34m(\u001b[0m\u001b[0;34m)\u001b[0m\u001b[0;34m.\u001b[0m\u001b[0mrun_line_magic\u001b[0m\u001b[0;34m(\u001b[0m\u001b[0;34m'matplotlib'\u001b[0m\u001b[0;34m,\u001b[0m \u001b[0;34m'inline'\u001b[0m\u001b[0;34m)\u001b[0m\u001b[0;34m\u001b[0m\u001b[0;34m\u001b[0m\u001b[0m\n",
      "\u001b[0;31mModuleNotFoundError\u001b[0m: No module named 'exp_or_poly'"
     ]
    }
   ],
   "source": [
    "import pandas as pd\n",
    "import numpy as np\n",
    "import matplotlib.pyplot as plt\n",
    "import seaborn as sns    # Sidenote: if you haven't tried using the Seaborn library, it's wonderful! I highly recommend that you give it a try.\n",
    "from scipy import stats\n",
    "from exp_or_poly import mystery_scatter  # Secret function I wrote, don't cheat and look!\n",
    "%matplotlib inline"
   ]
  },
  {
   "cell_type": "markdown",
   "metadata": {},
   "source": [
    "Here is some imaginary data. This function returns a pandas dataframe which we will save as `df`"
   ]
  },
  {
   "cell_type": "code",
   "execution_count": null,
   "metadata": {},
   "outputs": [],
   "source": [
    "df = mystery_scatter(n=500, random=False)\n",
    "df.describe()"
   ]
  },
  {
   "cell_type": "markdown",
   "metadata": {},
   "source": [
    "Mysteries #1, #2, and #3 all appear quite similar, and of course #4 certainly appears linear. We could just run a bunch of different regression models on columns 1, 2, and 3, and keep track of the R^2 values, then just pick the best. In theory, this should work (and with computing power being so cheap, it's certainly not a bad idea), but I'd like to give us a more precise way to decide, instead of the \"shotgun\" approach where you just try all possible models. The mathematics for why the following strategy works is rather elegant, as it involves taking complicated equations and turning them into the simple linear form: `y=m*x+b`. We won't be delving into the algebra here, [but you can go here instead](https://mathbench.umd.edu/modules/misc_scaling/page11.htm). For now, we'll just practice how to make it all happen in Python.   \n",
    "  \n",
    "The basic idea is as follows: when looking at data that curves upward as the x variable increases, we can plot two different scatter plots, and test each of them for linearity. Whichever scatterplot is closest to a straight line will tell us which underlying growth pattern is on display. If `log(x) vs log(y)` becomes linear, then the underlying pattern came from power model growth, but if `x vs log(y)` gives the more linear scatterplot, then the original data was probably from an exponential model. "
   ]
  },
  {
   "cell_type": "markdown",
   "metadata": {},
   "source": [
    "First, let's restrict our dataframe to only the curved lines:"
   ]
  },
  {
   "cell_type": "code",
   "execution_count": null,
   "metadata": {},
   "outputs": [],
   "source": [
    "curved_data = df.drop('linear', axis=1)"
   ]
  },
  {
   "cell_type": "markdown",
   "metadata": {},
   "source": [
    "Now, we'll build a function that can display the graphs side-by-side, for comparison."
   ]
  },
  {
   "cell_type": "code",
   "execution_count": null,
   "metadata": {},
   "outputs": [],
   "source": [
    "def linearity_test(df, x=0):\n",
    "    '''Take in a dataframe, and the index for data along the x-axis. Then, for each column, \n",
    "       display a scatterplot of the (x, log(y)) and also (log(x), log(y))'''\n",
    "    df_x = df.iloc[:, x].copy()\n",
    "    df_y = df.drop(df.columns[x], axis=1)\n",
    "    \n",
    "    for col in df_y.columns:\n",
    "        plt.figure(figsize=(18, 9), )\n",
    "        # Is it exponential?\n",
    "        \n",
    "        plt.subplot(1,2,1)\n",
    "        plt.title('Exp Test: (X , logY)')\n",
    "        sns.regplot(df_x, np.log(df[col]))\n",
    "        # Is it power?\n",
    "        plt.subplot(1,2,2)\n",
    "        plt.title('Pwr Test: (logX , logY)')\n",
    "        sns.regplot(np.log(df_x), np.log(df[col]))\n",
    "        \n",
    "        plt.suptitle(f'Which Model is Best for {col}?')\n",
    "        plt.savefig(col+'.png')\n",
    "        plt.show()\n",
    "        plt.close()\n",
    "        print('')\n",
    "\n",
    "linearity_test(curved_data)"
   ]
  },
  {
   "cell_type": "markdown",
   "metadata": {},
   "source": [
    "Well, `mystery_1` seems a bit inconclusive, we'll come back to that later. `mystery_2` certainly seems to have a linear relationship on the Exp Test, but NOT for the Power Test, which means the growth pattern for that column was caused by exponential growth, and `mystery_3` is the opposite, it is very obviously linear for the Pwr Test, but not for Exp Test. Let's peek under the hood and take a look at the function I used to build this data:"
   ]
  },
  {
   "cell_type": "code",
   "execution_count": null,
   "metadata": {},
   "outputs": [],
   "source": [
    "def mystery_scatter(n=100, var=200, random=False):\n",
    "    \n",
    "    '''Randomly generate data, one of which is quadratic, another is exponential,\n",
    "       and a third is linear.\n",
    "       Plot all sets of data side-by-side, then return a pandas dataframe'''\n",
    "    \n",
    "    if random == False:\n",
    "        np.random.seed(7182818)\n",
    "    \n",
    "    '''Generate some data, not much rhyme or reason to these numbers, just wanted everything \n",
    "       to be on the same scale and the two curved datasets should be hard to tell apart'''\n",
    "    \n",
    "    x = np.random.uniform(5, 100, n)\n",
    "    y1 = 11.45 * x ** 2 - 234.15 * x + 5000 + np.random.normal(0, var, n) * np.sqrt(x)\n",
    "    y2 = 5000 * 1.03 ** x + np.random.normal(0, var, n) * np.sqrt(x)\n",
    "    y3 = 5000 * x ** 1.9 + np.random.normal(0, 20 * var, n) * x\n",
    "    y4 = 856.16 * x - 10107.3 + np.random.normal(0, 6 * var, n)\n",
    "    \n",
    "    \n",
    "    '''Graph the plots'''\n",
    "    \n",
    "    plt.figure(figsize=(14, 14), )\n",
    "    \n",
    "    plt.subplot(2,2,1)\n",
    "    sns.scatterplot(x, y1)\n",
    "    plt.title('Mystery #1')\n",
    "    \n",
    "    plt.subplot(2,2,2)\n",
    "    sns.scatterplot(x, y2)\n",
    "    plt.title('Mystery #2')\n",
    "    \n",
    "    plt.subplot(2,2,3)\n",
    "    sns.scatterplot(x, y3)\n",
    "    plt.title('Mystery #3')\n",
    "    \n",
    "    plt.subplot(2,2,4)\n",
    "    sns.scatterplot(x, y4)\n",
    "    plt.title('Linear')\n",
    "    \n",
    "    plt.suptitle('Mystery Challenge: \\nOne of these is Exponential, one is Power, \\nand the other is Quadratic, but which is which?')\n",
    "    plt.savefig('mystery_growth.png')\n",
    "    plt.show()\n",
    "    plt.close()\n",
    "    \n",
    "    df = pd.DataFrame([x, y1, y2, y3, y4]).T\n",
    "    df.columns = ['x', 'mystery_1', 'mystery_2', 'mystery_3', 'linear']\n",
    "    df.sort_values('x', inplace=True)\n",
    "    df.reset_index(drop=True, inplace=True)\n",
    "    return df"
   ]
  },
  {
   "cell_type": "markdown",
   "metadata": {},
   "source": [
    "in particular, look at how the data was generated: "
   ]
  },
  {
   "cell_type": "markdown",
   "metadata": {},
   "source": [
    "```\n",
    "x = np.random.uniform(5, 100, n)\n",
    "y1 = 11.45 * x ** 2 - 234.15 * x + 5000 + np.random.normal(0, var, n) * np.sqrt(x)\n",
    "y2 = 5000 * 1.03 ** x + np.random.normal(0, var, n) * np.sqrt(x)\n",
    "y3 = 5000 * x ** 1.9 + np.random.normal(0, 20 * var, n) * x\n",
    "y4 = 856.16 * x - 10107.3 + np.random.normal(0, 6 * var, n)\n",
    "```"
   ]
  },
  {
   "cell_type": "markdown",
   "metadata": {},
   "source": [
    "So we were right about `mystery_2` (which was the same as y2) being caused by exponential growth, it was `y2 = 5000*1.03^x`.  \n",
    "  \n",
    "Meanwhile, `mystery_1` was `y1 = 11.45*x^2 - 234.15*x + 5000`, definitely built from a quadratic equation, which is somewhat related to the Power Model, but not exactly the same. Technically, the `log(x) vs log(y)` test only forces linearity for Power Models. In order to find the exact solution for this one, we would rule out exponential growth and power growth first, then start applying the \"reiterative common differences\" strategy to determine the degree of the polynomial, but we won't be getting in to that here.   \n",
    "  \n",
    "Refocusing again on power growth: it looks like `mystery_3` was generated with `y3 = 5000*x^1.9` which definitely qualifies as a power model.\n",
    "  \n",
    "P.S.  If you're wondering what the extra `np.random.normal(...)` stuff at the back part of each of those lines is doing, it's just adding in some random noise so the scatter plots wouldn't be too \"perfect\". "
   ]
  },
  {
   "cell_type": "code",
   "execution_count": null,
   "metadata": {},
   "outputs": [],
   "source": []
  }
 ],
 "metadata": {
  "kernelspec": {
   "display_name": "learn-env",
   "language": "python",
   "name": "learn-env"
  },
  "language_info": {
   "codemirror_mode": {
    "name": "ipython",
    "version": 3
   },
   "file_extension": ".py",
   "mimetype": "text/x-python",
   "name": "python",
   "nbconvert_exporter": "python",
   "pygments_lexer": "ipython3",
   "version": "3.7.3"
  }
 },
 "nbformat": 4,
 "nbformat_minor": 2
}
